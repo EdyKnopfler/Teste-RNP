{
 "cells": [
  {
   "cell_type": "markdown",
   "metadata": {
    "application/vnd.databricks.v1+cell": {
     "cellMetadata": {
      "byteLimit": 2048000,
      "rowLimit": 10000
     },
     "inputWidgets": {},
     "nuid": "6e40e5a4-28b0-4d07-a132-0049f50690e4",
     "showTitle": false,
     "title": ""
    }
   },
   "source": [
    "# Salvando tabelas como Parquet"
   ]
  },
  {
   "cell_type": "code",
   "execution_count": 0,
   "metadata": {
    "application/vnd.databricks.v1+cell": {
     "cellMetadata": {
      "byteLimit": 2048000,
      "rowLimit": 10000
     },
     "inputWidgets": {},
     "nuid": "cc8918b7-1080-48c3-a09e-81fc9e271f92",
     "showTitle": false,
     "title": ""
    }
   },
   "outputs": [],
   "source": [
    "HOST = 'psql-mock-database-cloud.postgres.database.azure.com'\n",
    "PORT = 5432\n",
    "DATABASE = 'ecom1692715661854plhkzofwthsxkoxs'\n",
    "USER = 'fejsuzwpknrwbdbdwlrkqjtv@psql-mock-database-cloud'\n",
    "PASSWORD = 'anyjuzyqrduelgjlkxhrplkr'\n",
    "\n",
    "def table_to_parquet(table_name):\n",
    "    remote_table = (\n",
    "        spark.read\n",
    "            .format('postgresql')\n",
    "            .option('dbtable', table_name)\n",
    "            .option('host', HOST)\n",
    "            .option('port', PORT)\n",
    "            .option('database', DATABASE)\n",
    "            .option('user', USER)\n",
    "            .option('password', PASSWORD)\n",
    "            .load()\n",
    "    )\n",
    "    remote_table.write.mode(\"overwrite\").parquet(f'/tmp/{table_name}.parquet')\n",
    "    return remote_table.cache()"
   ]
  },
  {
   "cell_type": "code",
   "execution_count": 0,
   "metadata": {
    "application/vnd.databricks.v1+cell": {
     "cellMetadata": {
      "byteLimit": 2048000,
      "rowLimit": 10000
     },
     "inputWidgets": {},
     "nuid": "d4285810-1cd3-4add-8b3a-33b27e06042c",
     "showTitle": false,
     "title": ""
    }
   },
   "outputs": [],
   "source": [
    "TABLES = ['offices', 'employees', 'customers', 'payments', 'product_lines', 'products', 'orders', 'orderdetails']\n",
    "dataframes = {}\n",
    "\n",
    "for table in TABLES:\n",
    "    df = table_to_parquet(table)\n",
    "    dataframes[table] = df"
   ]
  },
  {
   "cell_type": "markdown",
   "metadata": {
    "application/vnd.databricks.v1+cell": {
     "cellMetadata": {},
     "inputWidgets": {},
     "nuid": "e73173ec-43c9-4c93-9096-d80a127ae073",
     "showTitle": false,
     "title": ""
    }
   },
   "source": [
    "# Salvando tabelas como Delta\n",
    "\n",
    "Numa primeira execução precisamos ter os arquivos no formato.\n",
    "Comentado pois nas execuções posteriores não é necessário."
   ]
  },
  {
   "cell_type": "code",
   "execution_count": 0,
   "metadata": {
    "application/vnd.databricks.v1+cell": {
     "cellMetadata": {
      "byteLimit": 2048000,
      "rowLimit": 10000
     },
     "inputWidgets": {},
     "nuid": "a604fa43-1924-4cde-92a1-c16c38a6e839",
     "showTitle": false,
     "title": ""
    }
   },
   "outputs": [],
   "source": [
    "#for table in TABLES:\n",
    "#    dataframes[table].write.format('delta').mode('overwrite').save(f'/tmp/delta/{table}')"
   ]
  },
  {
   "cell_type": "markdown",
   "metadata": {
    "application/vnd.databricks.v1+cell": {
     "cellMetadata": {},
     "inputWidgets": {},
     "nuid": "e341ea41-50d5-4304-94d4-8c0c920a87b1",
     "showTitle": false,
     "title": ""
    }
   },
   "source": [
    "# Mesclando no Delta Lake"
   ]
  },
  {
   "cell_type": "markdown",
   "metadata": {
    "application/vnd.databricks.v1+cell": {
     "cellMetadata": {},
     "inputWidgets": {},
     "nuid": "392b2832-2f8c-47c5-9831-d426557e04a0",
     "showTitle": false,
     "title": ""
    }
   },
   "source": [
    "## Carregando os parquets (previamente lidos da base PostgreSQL)"
   ]
  },
  {
   "cell_type": "code",
   "execution_count": 0,
   "metadata": {
    "application/vnd.databricks.v1+cell": {
     "cellMetadata": {
      "byteLimit": 2048000,
      "rowLimit": 10000
     },
     "inputWidgets": {},
     "nuid": "91152a95-ceb7-49ad-b32e-5d4d9383a7c0",
     "showTitle": false,
     "title": ""
    }
   },
   "outputs": [],
   "source": [
    "parquet_dataframes = {}\n",
    "\n",
    "for table in TABLES:\n",
    "    parquet_dataframes[table] = spark.read.parquet(f'/tmp/{table}.parquet').cache()"
   ]
  },
  {
   "cell_type": "markdown",
   "metadata": {
    "application/vnd.databricks.v1+cell": {
     "cellMetadata": {},
     "inputWidgets": {},
     "nuid": "ccf48565-3e4d-4a7c-8950-fd8abbfbe966",
     "showTitle": false,
     "title": ""
    }
   },
   "source": [
    "## Carregando os Deltas"
   ]
  },
  {
   "cell_type": "code",
   "execution_count": 0,
   "metadata": {
    "application/vnd.databricks.v1+cell": {
     "cellMetadata": {
      "byteLimit": 2048000,
      "rowLimit": 10000
     },
     "inputWidgets": {},
     "nuid": "bb29f1cb-ab5a-4a90-be1c-c65dd9a92f77",
     "showTitle": false,
     "title": ""
    }
   },
   "outputs": [],
   "source": [
    "from delta.tables import DeltaTable\n",
    "\n",
    "delta_dataframes = {}\n",
    "\n",
    "for table in TABLES:\n",
    "    delta_dataframes[table] = DeltaTable.forPath(spark, f'/tmp/delta/{table}')"
   ]
  },
  {
   "cell_type": "markdown",
   "metadata": {
    "application/vnd.databricks.v1+cell": {
     "cellMetadata": {},
     "inputWidgets": {},
     "nuid": "61f94717-5f0d-4827-9de8-c2d14bb0533c",
     "showTitle": false,
     "title": ""
    }
   },
   "source": [
    "## Executando os merges"
   ]
  },
  {
   "cell_type": "code",
   "execution_count": 0,
   "metadata": {
    "application/vnd.databricks.v1+cell": {
     "cellMetadata": {
      "byteLimit": 2048000,
      "rowLimit": 10000
     },
     "inputWidgets": {},
     "nuid": "d09accea-e3e9-4ad8-87dc-1639087e1857",
     "showTitle": false,
     "title": ""
    }
   },
   "outputs": [],
   "source": [
    "def do_merge(source, destination, key_fields):\n",
    "    (\n",
    "        destination\n",
    "            .alias('dest')\n",
    "            .merge(\n",
    "                source.alias('src'), \n",
    "                ' AND '.join([f'src.{key_field} = dest.{key_field}' for key_field in key_fields])\n",
    "            )\n",
    "            .whenMatchedUpdateAll()\n",
    "            .whenNotMatchedInsertAll()\n",
    "            .whenNotMatchedBySourceDelete()\n",
    "    ).execute()"
   ]
  },
  {
   "cell_type": "code",
   "execution_count": 0,
   "metadata": {
    "application/vnd.databricks.v1+cell": {
     "cellMetadata": {
      "byteLimit": 2048000,
      "rowLimit": 10000
     },
     "inputWidgets": {},
     "nuid": "a7ae9eb3-008d-4c5d-87e8-ad8031436e39",
     "showTitle": false,
     "title": ""
    }
   },
   "outputs": [],
   "source": [
    "KEYS = {\n",
    "    'offices': ['office_code'], \n",
    "    'employees': ['employee_number'], \n",
    "    'customers': ['customer_number'], \n",
    "    'payments': ['customer_number', 'check_number'], \n",
    "    'product_lines': ['product_line'], \n",
    "    'products': {'product_code'}, \n",
    "    'orders': ['order_number'], \n",
    "    'orderdetails': ['order_number', 'order_line_number']\n",
    "}\n",
    "\n",
    "for table in TABLES:\n",
    "    do_merge(\n",
    "        source=parquet_dataframes[table],\n",
    "        destination=delta_dataframes[table],\n",
    "        key_fields=KEYS[table]\n",
    "    )"
   ]
  },
  {
   "cell_type": "markdown",
   "metadata": {
    "application/vnd.databricks.v1+cell": {
     "cellMetadata": {},
     "inputWidgets": {},
     "nuid": "8f8afeb6-7f99-419a-ad5c-d13aae688cd8",
     "showTitle": false,
     "title": ""
    }
   },
   "source": [
    "# Consultas na base\n",
    "\n",
    "Usamos os lidos do PostgreSQL no início."
   ]
  },
  {
   "cell_type": "markdown",
   "metadata": {
    "application/vnd.databricks.v1+cell": {
     "cellMetadata": {},
     "inputWidgets": {},
     "nuid": "e7820a7e-f487-4fc0-8248-a9ad76c3b07d",
     "showTitle": false,
     "title": ""
    }
   },
   "source": [
    "## Qual país possui a maior quantidade de itens cancelados?"
   ]
  },
  {
   "cell_type": "code",
   "execution_count": 0,
   "metadata": {
    "application/vnd.databricks.v1+cell": {
     "cellMetadata": {
      "byteLimit": 2048000,
      "rowLimit": 10000
     },
     "inputWidgets": {},
     "nuid": "490977f3-a05e-441f-8ae7-78f11bd837d5",
     "showTitle": false,
     "title": ""
    }
   },
   "outputs": [],
   "source": [
    "for table in TABLES:\n",
    "    dataframes[table].createOrReplaceTempView(table)"
   ]
  },
  {
   "cell_type": "code",
   "execution_count": 0,
   "metadata": {
    "application/vnd.databricks.v1+cell": {
     "cellMetadata": {
      "byteLimit": 2048000,
      "rowLimit": 10000
     },
     "inputWidgets": {},
     "nuid": "bd677e46-e542-4972-a6ac-3156da226118",
     "showTitle": false,
     "title": ""
    }
   },
   "outputs": [
    {
     "output_type": "stream",
     "name": "stdout",
     "output_type": "stream",
     "text": [
      "Out[28]: [Row(country='USA', qtd_cancelados=1004)]"
     ]
    }
   ],
   "source": [
    "spark.sql(\"\"\"\n",
    "    select c.country, count(*) as qtd_cancelados\n",
    "    from \n",
    "        customers c \n",
    "        join orders o on o.customer_number = c.customer_number \n",
    "        join orderdetails d on d.order_number = o.order_number \n",
    "    group by c.country \n",
    "    order by qtd_cancelados desc\n",
    "    limit 1\n",
    "\"\"\").collect()"
   ]
  },
  {
   "cell_type": "markdown",
   "metadata": {
    "application/vnd.databricks.v1+cell": {
     "cellMetadata": {},
     "inputWidgets": {},
     "nuid": "381d9404-f030-4508-99c5-ccb4079dbd28",
     "showTitle": false,
     "title": ""
    }
   },
   "source": [
    "## Qual o faturamento da linha de produto mais vendido, considere como os itens Shipped, cujo o pedido foi realizado no ano de 2005?"
   ]
  },
  {
   "cell_type": "code",
   "execution_count": 0,
   "metadata": {
    "application/vnd.databricks.v1+cell": {
     "cellMetadata": {
      "byteLimit": 2048000,
      "rowLimit": 10000
     },
     "inputWidgets": {},
     "nuid": "77eec8db-7ba6-42ab-8761-9d37db84d2f7",
     "showTitle": false,
     "title": ""
    }
   },
   "outputs": [
    {
     "output_type": "stream",
     "name": "stdout",
     "output_type": "stream",
     "text": [
      "Out[27]: [Row(product_line='Classic Cars', faturamento=Decimal('603666.99'))]"
     ]
    }
   ],
   "source": [
    "spark.sql(\"\"\"\n",
    "    select p.product_line, sum(d.quantity_ordered * d.price_each) as faturamento\n",
    "    from\n",
    "        products p\n",
    "        join orderdetails d on d.product_code = p.product_code\n",
    "        join orders o on d.order_number = o.order_number \n",
    "        and o.order_date between '2005-01-01' and '2005-12-31' \n",
    "        and o.status = 'Shipped'\n",
    "    group by p.product_line \n",
    "    order by faturamento desc\n",
    "    limit 1\n",
    "\"\"\").collect()"
   ]
  },
  {
   "cell_type": "markdown",
   "metadata": {
    "application/vnd.databricks.v1+cell": {
     "cellMetadata": {},
     "inputWidgets": {},
     "nuid": "a44462c5-f07f-402d-a578-eb50ae0e9ce4",
     "showTitle": false,
     "title": ""
    }
   },
   "source": [
    "## Nome, sobrenome e e-mail dos vendedores do Japão, o local-part do e-mail deve estar mascarado."
   ]
  },
  {
   "cell_type": "code",
   "execution_count": 0,
   "metadata": {
    "application/vnd.databricks.v1+cell": {
     "cellMetadata": {
      "byteLimit": 2048000,
      "rowLimit": 10000
     },
     "inputWidgets": {},
     "nuid": "523a559b-a37d-49fb-9d48-1696ce7e3856",
     "showTitle": false,
     "title": ""
    }
   },
   "outputs": [
    {
     "output_type": "stream",
     "name": "stdout",
     "output_type": "stream",
     "text": [
      "Out[30]: [Row(first_name='Mami', last_name='Nishi', email='*****@classicmodelcars.com'),\n Row(first_name='Yoshimi', last_name='Kato', email='*****@classicmodelcars.com')]"
     ]
    }
   ],
   "source": [
    "spark.sql(\"\"\"\n",
    "    select e.first_name, e.last_name, '*****@' || split(e.email, '@')[1] as email\n",
    "    from \n",
    "        employees e\n",
    "        join offices o on e.office_code = o.office_code \n",
    "            and o.country = 'Japan'\n",
    "\"\"\").collect()"
   ]
  },
  {
   "cell_type": "code",
   "execution_count": 0,
   "metadata": {
    "application/vnd.databricks.v1+cell": {
     "cellMetadata": {},
     "inputWidgets": {},
     "nuid": "b847b0bc-aa43-40a0-af44-b0818da72b4a",
     "showTitle": false,
     "title": ""
    }
   },
   "outputs": [],
   "source": []
  }
 ],
 "metadata": {
  "application/vnd.databricks.v1+notebook": {
   "dashboards": [],
   "language": "python",
   "notebookMetadata": {
    "pythonIndentUnit": 4
   },
   "notebookName": "Teste RNP",
   "widgets": {}
  }
 },
 "nbformat": 4,
 "nbformat_minor": 0
}
